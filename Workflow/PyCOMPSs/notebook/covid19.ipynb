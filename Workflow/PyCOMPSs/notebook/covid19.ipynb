{
 "cells": [
  {
   "cell_type": "markdown",
   "id": "0e65cc8d",
   "metadata": {},
   "source": [
    "# Covid19 Workflow\n",
    "\n",
    "This is the interactive version of the Covid19 workflow using PyCOMPSs.\n",
    "\n",
    "It uses the Building Blocks from jupyter, whilst PyCOMPSs is used to parallelize the workflow."
   ]
  },
  {
   "cell_type": "code",
   "execution_count": null,
   "id": "b60e2ff8",
   "metadata": {},
   "outputs": [],
   "source": [
    "import os\n",
    "import csv\n",
    "import glob\n",
    "from pathlib import Path\n",
    "\n",
    "current_path = os.getcwd()\n",
    "if not \"PERMEDCOE_IMAGES\" in os.environ:\n",
    "    os.environ[\"PERMEDCOE_IMAGES\"] = current_path + \"/../../../../BuildingBlocks/Resources/images/\"\n",
    "os.environ[\"COMPUTING_UNITS\"] = \"1\""
   ]
  },
  {
   "cell_type": "markdown",
   "id": "f4508c57",
   "metadata": {},
   "source": [
    "First, start the PyCOMPSs runtime and import the used PyCOMPSs synchronization function (``compss_wait_on_directory``)"
   ]
  },
  {
   "cell_type": "code",
   "execution_count": null,
   "id": "a7255edb",
   "metadata": {},
   "outputs": [],
   "source": [
    "import pycompss.interactive as ipycompss"
   ]
  },
  {
   "cell_type": "code",
   "execution_count": null,
   "id": "ddf2b25f",
   "metadata": {},
   "outputs": [],
   "source": [
    "ipycompss.start(graph=True, trace=False, debug=True)\n",
    "\n",
    "# PyCOMPSs imports\n",
    "from pycompss.api.api import compss_wait_on_directory\n",
    "from pycompss.api.api import compss_wait_on_file"
   ]
  },
  {
   "cell_type": "markdown",
   "id": "2a700428",
   "metadata": {},
   "source": [
    "Second, import the required Building Blocks"
   ]
  },
  {
   "cell_type": "code",
   "execution_count": null,
   "id": "f5628a64",
   "metadata": {},
   "outputs": [],
   "source": [
    "# To set the default PyCOMPSs TMPDIR\n",
    "from permedcoe import TMPDIR\n",
    "\n",
    "# Import building block tasks\n",
    "from MaBoSS_BB import MaBoSS_analysis\n",
    "from single_cell_processing_BB import single_cell_processing\n",
    "from personalize_patient_BB import personalize_patient\n",
    "from PhysiBoSS_BB import physiboss_model, physiboss_analyse_replicates\n",
    "from meta_analysis_BB import meta_analysis"
   ]
  },
  {
   "cell_type": "markdown",
   "id": "22284399",
   "metadata": {},
   "source": [
    "Third, set the input parameters and load input data"
   ]
  },
  {
   "cell_type": "code",
   "execution_count": null,
   "id": "8069f2f5",
   "metadata": {},
   "outputs": [],
   "source": [
    "print(\"--------------------\")\n",
    "print(\"| Covid19 Workflow |\")\n",
    "print(\"--------------------\")\n",
    "\n",
    "arg_metadata = current_path + \"/../../../Resources/data/metadata_small_local.tsv\"\n",
    "arg_model_prefix = current_path + \"/../../../Resources/data/epithelial_cell_2\"\n",
    "arg_outdir = current_path + \"/results/\"\n",
    "arg_ko_file = current_path + \"/ko_file.txt\"\n",
    "arg_reps = 2\n",
    "arg_model = \"epithelial_cell_2\"\n",
    "arg_data_folder = current_path + \"/../../../Resources/data/\"\n",
    "arg_max_time = 100"
   ]
  },
  {
   "cell_type": "code",
   "execution_count": null,
   "id": "3d956a40",
   "metadata": {},
   "outputs": [],
   "source": [
    "if os.path.exists(arg_outdir):\n",
    "    print(\"WARNING: the output folder already exists\")\n",
    "else:\n",
    "    os.makedirs(arg_outdir)"
   ]
  },
  {
   "cell_type": "markdown",
   "id": "97785368",
   "metadata": {},
   "source": [
    "Gene candidates"
   ]
  },
  {
   "cell_type": "code",
   "execution_count": null,
   "id": "af159036",
   "metadata": {},
   "outputs": [],
   "source": [
    "if os.path.exists(arg_ko_file):\n",
    "    print(\"KO file provided\")\n",
    "else:\n",
    "    print(\"KO file not detected, running MABOSS\")\n",
    "    ## MABOSS\n",
    "    # This step produces the ko_file.txt, containing the set of selected gene candidates\n",
    "    MaBoSS_analysis(model=arg_model,\n",
    "                    data_folder=arg_data_folder,\n",
    "                    ko_file=arg_ko_file,\n",
    "                    parallel=\"1\",\n",
    "                    tmpdir=TMPDIR)\n",
    "    compss_wait_on_file(arg_ko_file)"
   ]
  },
  {
   "cell_type": "markdown",
   "id": "c577f5c2",
   "metadata": {},
   "source": [
    "Discover gene candidates"
   ]
  },
  {
   "cell_type": "code",
   "execution_count": null,
   "id": "c798ea94",
   "metadata": {},
   "outputs": [],
   "source": [
    "def get_genefiles(prefix, genes):\n",
    "    \"\"\"\n",
    "    Create a list of genes files for the given patient.\n",
    "\n",
    "    :param prefix: prefix\n",
    "    :param genes: KO genes\n",
    "    :return: List of names to be processed\n",
    "    \"\"\"\n",
    "    genefiles = []\n",
    "    for gene in genes:\n",
    "        if gene != \"\":\n",
    "            name = prefix + \"_personalized__\" + gene + \"_ko\"\n",
    "        else:\n",
    "            name = prefix + \"_personalized\"\n",
    "        genefiles.append(name)\n",
    "    return genefiles"
   ]
  },
  {
   "cell_type": "code",
   "execution_count": null,
   "id": "0674e1b6",
   "metadata": {},
   "outputs": [],
   "source": [
    "genes = [\"\"]  # first empty since it is the original without gene ko\n",
    "with open(arg_ko_file, \"r\") as ko_fd:\n",
    "    genes += ko_fd.read().splitlines()\n",
    "genefiles = get_genefiles(arg_model, genes)"
   ]
  },
  {
   "cell_type": "markdown",
   "id": "b5081872",
   "metadata": {},
   "source": [
    "Iterate over the metadata file processing each patient"
   ]
  },
  {
   "cell_type": "code",
   "execution_count": null,
   "id": "fcdcfd9a",
   "metadata": {},
   "outputs": [],
   "source": [
    "physiboss_results = []\n",
    "physiboss_subfolder = \"physiboss_results\"  # do not modify (hardcoded in meta-analysis)\n",
    "with open(arg_metadata, \"r\") as metadata_fd:\n",
    "    reader = csv.DictReader(metadata_fd, delimiter=\"\\t\")\n",
    "    for line in reader:\n",
    "        # ONE LINE PER PATIENT\n",
    "        sample = line[\"id\"]\n",
    "        # SINGLE CELL PROCESSING\n",
    "        print(\"> SINGLE CELL PROCESSING %s\" % sample)\n",
    "        sample_out_dir = os.path.join(arg_outdir, sample)\n",
    "        scp_dir = os.path.join(sample_out_dir, \"single_cell_processing\", \"results\")\n",
    "        os.makedirs(scp_dir)\n",
    "        scp_images_dir = os.path.join(sample_out_dir, \"single_cell_processing\", \"images\")\n",
    "        os.makedirs(scp_images_dir)\n",
    "        norm_data = os.path.join(scp_dir, \"norm_data.tsv\")\n",
    "        raw_data = os.path.join(scp_dir, \"raw_data.tsv\")\n",
    "        scaled_data = os.path.join(scp_dir, \"scaled_data.tsv\")\n",
    "        cells_metadata = os.path.join(scp_dir, \"cells_metadata.tsv\")\n",
    "        if line[\"file\"].startswith(\"../..\"):\n",
    "            # Two folder relative - Local\n",
    "            relative_p_file = os.path.join(*(line[\"file\"].split(os.path.sep)[2:]))  # remove first two folders \"../..\"\n",
    "            p_file = os.path.join(\"..\", \"..\", \"Resources\", relative_p_file)\n",
    "        else:\n",
    "            # Absolute path - Supercomputer\n",
    "            p_file = line[\"file\"]\n",
    "        single_cell_processing(tmpdir=TMPDIR,\n",
    "                               p_id=sample,\n",
    "                               p_group=line[\"group\"],\n",
    "                               p_file=p_file,\n",
    "                               norm_data=norm_data,\n",
    "                               raw_data=raw_data,\n",
    "                               scaled_data=scaled_data,\n",
    "                               cells_metadata=cells_metadata,\n",
    "                               outdir=scp_images_dir)\n",
    "\n",
    "        # PERSONALIZE PATIENT\n",
    "        print(\"> PERSONALIZING PATIENT %s\" % sample)\n",
    "        pp_dir = os.path.join(sample_out_dir, \"personalize_patient\")\n",
    "        os.makedirs(pp_dir)\n",
    "        model_output_dir = os.path.join(pp_dir, \"models\")\n",
    "        personalized_result = os.path.join(pp_dir, \"personalized_by_cell_type.tsv\")\n",
    "        personalize_patient(tmpdir=TMPDIR,\n",
    "                            norm_data=norm_data,\n",
    "                            cells=cells_metadata,\n",
    "                            model_prefix=arg_model_prefix,\n",
    "                            t=\"Epithelial_cells\",\n",
    "                            model_output_dir=model_output_dir,\n",
    "                            personalized_result=personalized_result,\n",
    "                            ko=arg_ko_file)\n",
    "\n",
    "        for gene_prefix in genefiles:\n",
    "            print(\">> prefix: \" + str(gene_prefix))\n",
    "            for r in range(1, arg_reps + 1):\n",
    "                print(\">>> Repetition: \" + str(r))\n",
    "                name = \"output_\" + sample + \"_\" + gene_prefix + \"_\" + str(r)\n",
    "                out_file = os.path.join(arg_outdir, sample, physiboss_subfolder, name + \".out\")\n",
    "                err_file = os.path.join(arg_outdir, sample, physiboss_subfolder, name + \".err\")\n",
    "                print(\"\\t- \" + out_file)\n",
    "                print(\"\\t- \" + err_file)\n",
    "                results_dir = os.path.join(arg_outdir, sample, physiboss_subfolder, gene_prefix + \"_physiboss_run_\" + str(r))\n",
    "                os.makedirs(results_dir)\n",
    "                physiboss_results.append(results_dir)\n",
    "                # PHYSIBOSS\n",
    "                physiboss_model(sample=sample,\n",
    "                                repetition=r,\n",
    "                                prefix=gene_prefix,\n",
    "                                model_dir=model_output_dir,\n",
    "                                out_file=out_file,\n",
    "                                err_file=err_file,\n",
    "                                results_dir=results_dir,\n",
    "                                max_time=arg_max_time,\n",
    "                                tmpdir=TMPDIR)"
   ]
  },
  {
   "cell_type": "code",
   "execution_count": null,
   "id": "12a4bce5",
   "metadata": {},
   "outputs": [],
   "source": [
    "# VERSION 1: PROCESS ALL WITHIN THE SAME TASK\n",
    "\n",
    "# Wait for all physiboss\n",
    "# Currently needed because the meta analysis requires all of them\n",
    "# and its input is the main folder. It assumes the internal folder\n",
    "# structure\n",
    "for physiboss_result in physiboss_results:\n",
    "    compss_wait_on_directory(physiboss_result)\n",
    "\n",
    "physiboss_replicates_results = []\n",
    "physiboss_replicates_analysis_subfolder = \"physiboss_replicates_analysis\"  # do not modify (hardcoded in meta-analysis)\n",
    "\n",
    "with open(arg_metadata, \"r\") as metadata_fd:\n",
    "    reader = csv.DictReader(metadata_fd, delimiter=\"\\t\")\n",
    "    for line in reader:\n",
    "        # ONE LINE PER PATIENT\n",
    "        sample = line[\"id\"]\n",
    "\n",
    "        for gene_prefix in genefiles:\n",
    "            print(\">> prefix: \" + str(gene_prefix))\n",
    "            out_file = os.path.join(arg_outdir, sample, physiboss_replicates_analysis_subfolder, gene_prefix + \".out\")\n",
    "            err_file = os.path.join(arg_outdir, sample, physiboss_replicates_analysis_subfolder, gene_prefix + \".err\")\n",
    "            print(\"\\t- \" + out_file)\n",
    "            print(\"\\t- \" + err_file)\n",
    "\n",
    "            physiboss_replicates_result = os.path.join(arg_outdir, sample, physiboss_replicates_analysis_subfolder, gene_prefix + \"_results\")\n",
    "            replicates_folder = os.path.join(arg_outdir, sample, physiboss_subfolder)\n",
    "            prefix = gene_prefix + \"_physiboss_run_\"\n",
    "\n",
    "            physiboss_replicates_results.append(physiboss_replicates_result)\n",
    "\n",
    "            physiboss_analyse_replicates(replicates=arg_reps,\n",
    "                                        replicates_folder=replicates_folder,\n",
    "                                        prefix=prefix, \n",
    "                                        out_file=out_file,\n",
    "                                        err_file=err_file,\n",
    "                                        results_dir=physiboss_replicates_result,\n",
    "                                        parallel=1,\n",
    "                                        tmpdir=TMPDIR\n",
    "            )\n",
    "\n",
    "# Wait for physiboss\n",
    "for physiboss_replicates_result in physiboss_replicates_results:\n",
    "    compss_wait_on_directory(physiboss_replicates_result)\n",
    "\n",
    "# Perform last step: meta analysis\n",
    "final_result_dir = os.path.join(arg_outdir, \"meta_analysis\")\n",
    "os.makedirs(final_result_dir)\n",
    "# META-ANALYSIS\n",
    "meta_analysis(tmpdir=TMPDIR,\n",
    "              meta_file=arg_metadata,\n",
    "              out_dir=arg_outdir,\n",
    "              model_prefix=arg_model,\n",
    "              ko_file=arg_ko_file,\n",
    "              reps=arg_reps,\n",
    "              verbose=\"T\",\n",
    "              results=final_result_dir)"
   ]
  },
  {
   "cell_type": "code",
   "execution_count": null,
   "id": "6bbd82b0",
   "metadata": {},
   "outputs": [],
   "source": [
    "compss_wait_on_directory(final_result_dir)"
   ]
  },
  {
   "cell_type": "markdown",
   "id": "2dc4deca",
   "metadata": {},
   "source": [
    "Once the plots have been generate, they can be displayed."
   ]
  },
  {
   "cell_type": "code",
   "execution_count": null,
   "id": "37670359",
   "metadata": {},
   "outputs": [],
   "source": [
    "print(\"Generated results:\")\n",
    "for res in os.listdir(final_result_dir):\n",
    "    print(f\"\\t- {res}\")"
   ]
  },
  {
   "cell_type": "code",
   "execution_count": null,
   "id": "92570162",
   "metadata": {},
   "outputs": [],
   "source": [
    "from IPython.display import Image\n",
    "from IPython.display import display\n",
    "\n",
    "print(\"Clustermap:\")\n",
    "img = Image(filename=os.path.join(final_result_dir, \"clustermap.png\"), width = 500, height = 300)\n",
    "display(img)\n",
    "print(\"Clustermap traces:\")\n",
    "img = Image(filename=os.path.join(final_result_dir, \"clustermap_traces.png\"), width = 500, height = 300)\n",
    "display(img)\n",
    "print(\"Clustermap genes:\")\n",
    "img = Image(filename=os.path.join(final_result_dir, \"clustermap_genes.png\"), width = 500, height = 300)\n",
    "display(img)\n",
    "print(\"Clustermap patients:\")\n",
    "img = Image(filename=os.path.join(final_result_dir, \"clustermap_patients.png\"), width = 500, height = 300)\n",
    "display(img)\n",
    "print(\"Dendogram:\")\n",
    "img = Image(filename=os.path.join(final_result_dir, \"dendogram.png\"), width = 500, height = 300)\n",
    "display(img)\n",
    "print(\"Dendogram traces:\")\n",
    "img = Image(filename=os.path.join(final_result_dir, \"dendogram_traces.png\"), width = 500, height = 300)\n",
    "display(img)\n",
    "print(\"Dendogram genes:\")\n",
    "img = Image(filename=os.path.join(final_result_dir, \"dendogram_genes.png\"), width = 500, height = 300)\n",
    "display(img)\n",
    "print(\"Dendogram patients:\")\n",
    "img = Image(filename=os.path.join(final_result_dir, \"dendogram_patients.png\"), width = 500, height = 300)\n",
    "display(img)"
   ]
  },
  {
   "cell_type": "markdown",
   "id": "dbb6a5cf",
   "metadata": {},
   "source": [
    "Finally, we can stop the PyCOMPSs runtime."
   ]
  },
  {
   "cell_type": "code",
   "execution_count": null,
   "id": "2bdbebad",
   "metadata": {},
   "outputs": [],
   "source": [
    "ipycompss.stop(sync=False)"
   ]
  }
 ],
 "metadata": {
  "kernelspec": {
   "display_name": "Python 3 (ipykernel)",
   "language": "python",
   "name": "python3"
  },
  "language_info": {
   "codemirror_mode": {
    "name": "ipython",
    "version": 3
   },
   "file_extension": ".py",
   "mimetype": "text/x-python",
   "name": "python",
   "nbconvert_exporter": "python",
   "pygments_lexer": "ipython3",
   "version": "3.10.12"
  },
  "varInspector": {
   "cols": {
    "lenName": 16,
    "lenType": 16,
    "lenVar": 40
   },
   "kernels_config": {
    "python": {
     "delete_cmd_postfix": "",
     "delete_cmd_prefix": "del ",
     "library": "var_list.py",
     "varRefreshCmd": "print(var_dic_list())"
    },
    "r": {
     "delete_cmd_postfix": ") ",
     "delete_cmd_prefix": "rm(",
     "library": "var_list.r",
     "varRefreshCmd": "cat(var_dic_list()) "
    }
   },
   "types_to_exclude": [
    "module",
    "function",
    "builtin_function_or_method",
    "instance",
    "_Feature"
   ],
   "window_display": false
  }
 },
 "nbformat": 4,
 "nbformat_minor": 5
}
