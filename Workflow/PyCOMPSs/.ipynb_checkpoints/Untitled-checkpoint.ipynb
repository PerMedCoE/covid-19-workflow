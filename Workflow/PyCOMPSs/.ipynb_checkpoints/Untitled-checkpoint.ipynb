{
 "cells": [
  {
   "cell_type": "code",
   "execution_count": 1,
   "metadata": {},
   "outputs": [],
   "source": [
    "import os\n",
    "import xml\n",
    "import scipy\n",
    "import csv"
   ]
  },
  {
   "cell_type": "code",
   "execution_count": 2,
   "metadata": {},
   "outputs": [],
   "source": [
    "meta_file = \"/home/javier/github/projects/PerMedCoE/PilotWorkflow/resources/data/metadata_small_local.tsv\"\n",
    "outdir = \"/home/javier/github/projects/PerMedCoE/PilotWorkflow/covid19_pilot_workflow/PyCOMPSs/results\"\n",
    "model_prefix = \"epithelial_cell_2\"\n",
    "ko_file = \"/home/javier/github/projects/PerMedCoE/PilotWorkflow/covid19_pilot_workflow/PyCOMPSs/ko_file.txt\"\n",
    "reps = 2\n",
    "verbose = False\n",
    "results_dir = \"/home/javier/github/projects/PerMedCoE/PilotWorkflow/covid19_pilot_workflow/PyCOMPSs/results/meta\""
   ]
  },
  {
   "cell_type": "code",
   "execution_count": 3,
   "metadata": {},
   "outputs": [],
   "source": [
    "# Read input files:\n",
    "with open(meta_file, \"r\") as m_fd:\n",
    "    meta_csv_reader = csv.reader(m_fd, delimiter=\"\\t\")\n",
    "    meta_file_contents = []\n",
    "    for row in meta_csv_reader:\n",
    "        meta_file_contents.append(row)\n",
    "    meta_file_header = meta_file_contents.pop(0)\n",
    "with open(ko_file, \"r\") as ko_fd:\n",
    "    ko_file_contents = [mutant.strip() for mutant in ko_fd.readlines()]"
   ]
  },
  {
   "cell_type": "code",
   "execution_count": 4,
   "metadata": {},
   "outputs": [
    {
     "name": "stdout",
     "output_type": "stream",
     "text": [
      "['id', 'group', 'file']\n",
      "['C141', 'C', '/home/javier/github/projects/PerMedCoE/PilotWorkflow/resources/data/GSE145926_covid19/small/GSM4339769_C141_filtered_feature_bc_matrix.h5']\n",
      "['C142', 'C', '/home/javier/github/projects/PerMedCoE/PilotWorkflow/resources/data/GSE145926_covid19/small/GSM4339770_C142_filtered_feature_bc_matrix.h5']\n",
      "['FADD', 'M']\n"
     ]
    }
   ],
   "source": [
    "# Check input files:\n",
    "print(meta_file_header)\n",
    "for row in meta_file_contents:\n",
    "    print(row)\n",
    "print(ko_file_contents)"
   ]
  },
  {
   "cell_type": "code",
   "execution_count": 5,
   "metadata": {},
   "outputs": [
    {
     "name": "stdout",
     "output_type": "stream",
     "text": [
      "***********************************\n",
      "***        META-ANALYSIS        ***\n",
      "***********************************\n",
      "metadata file: /home/javier/github/projects/PerMedCoE/PilotWorkflow/resources/data/metadata_small_local.tsv\n",
      "outdir: /home/javier/github/projects/PerMedCoE/PilotWorkflow/covid19_pilot_workflow/PyCOMPSs/results\n",
      "model prefix: epithelial_cell_2\n",
      "ko file: /home/javier/github/projects/PerMedCoE/PilotWorkflow/covid19_pilot_workflow/PyCOMPSs/ko_file.txt\n",
      "replicates: 2\n",
      "verbose: False\n",
      "results_dir: /home/javier/github/projects/PerMedCoE/PilotWorkflow/covid19_pilot_workflow/PyCOMPSs/results/meta\n",
      "***********************************\n"
     ]
    }
   ],
   "source": [
    "print(\"***********************************\")\n",
    "print(\"***        META-ANALYSIS        ***\")\n",
    "print(\"***********************************\")\n",
    "print(\"metadata file: %s\" % meta_file)\n",
    "print(\"outdir: %s\" % outdir)\n",
    "print(\"model prefix: %s\" % model_prefix)\n",
    "print(\"ko file: %s\" % ko_file)\n",
    "print(\"replicates: %d\" % reps)\n",
    "print(\"verbose: %s\" % str(verbose))\n",
    "print(\"results_dir: %s\" % results_dir)\n",
    "print(\"***********************************\")"
   ]
  },
  {
   "cell_type": "code",
   "execution_count": 6,
   "metadata": {},
   "outputs": [],
   "source": [
    "# LOOK FOR RESULT FILES"
   ]
  },
  {
   "cell_type": "code",
   "execution_count": 13,
   "metadata": {},
   "outputs": [
    {
     "name": "stdout",
     "output_type": "stream",
     "text": [
      "PATIENT: C141\n",
      "/home/javier/github/projects/PerMedCoE/PilotWorkflow/covid19_pilot_workflow/PyCOMPSs/results/C141/physiboss_results/epithelial_cell_2_personalized__FADD_ko_physiboss_run_1\n",
      "/home/javier/github/projects/PerMedCoE/PilotWorkflow/covid19_pilot_workflow/PyCOMPSs/results/C141/physiboss_results/epithelial_cell_2_personalized__M_ko_physiboss_run_1\n",
      "/home/javier/github/projects/PerMedCoE/PilotWorkflow/covid19_pilot_workflow/PyCOMPSs/results/C141/physiboss_results/epithelial_cell_2_personalized_physiboss_run_1\n",
      "/home/javier/github/projects/PerMedCoE/PilotWorkflow/covid19_pilot_workflow/PyCOMPSs/results/C141/physiboss_results/epithelial_cell_2_personalized__FADD_ko_physiboss_run_2\n",
      "/home/javier/github/projects/PerMedCoE/PilotWorkflow/covid19_pilot_workflow/PyCOMPSs/results/C141/physiboss_results/epithelial_cell_2_personalized__M_ko_physiboss_run_2\n",
      "/home/javier/github/projects/PerMedCoE/PilotWorkflow/covid19_pilot_workflow/PyCOMPSs/results/C141/physiboss_results/epithelial_cell_2_personalized_physiboss_run_2\n",
      "#document\n",
      "#document\n",
      "#document\n",
      "#document\n",
      "#document\n",
      "#document\n",
      "PATIENT: C142\n",
      "/home/javier/github/projects/PerMedCoE/PilotWorkflow/covid19_pilot_workflow/PyCOMPSs/results/C142/physiboss_results/epithelial_cell_2_personalized__FADD_ko_physiboss_run_1\n",
      "/home/javier/github/projects/PerMedCoE/PilotWorkflow/covid19_pilot_workflow/PyCOMPSs/results/C142/physiboss_results/epithelial_cell_2_personalized__M_ko_physiboss_run_1\n",
      "/home/javier/github/projects/PerMedCoE/PilotWorkflow/covid19_pilot_workflow/PyCOMPSs/results/C142/physiboss_results/epithelial_cell_2_personalized_physiboss_run_1\n",
      "/home/javier/github/projects/PerMedCoE/PilotWorkflow/covid19_pilot_workflow/PyCOMPSs/results/C142/physiboss_results/epithelial_cell_2_personalized__FADD_ko_physiboss_run_2\n",
      "/home/javier/github/projects/PerMedCoE/PilotWorkflow/covid19_pilot_workflow/PyCOMPSs/results/C142/physiboss_results/epithelial_cell_2_personalized__M_ko_physiboss_run_2\n",
      "/home/javier/github/projects/PerMedCoE/PilotWorkflow/covid19_pilot_workflow/PyCOMPSs/results/C142/physiboss_results/epithelial_cell_2_personalized_physiboss_run_2\n",
      "#document\n",
      "#document\n",
      "#document\n",
      "#document\n",
      "#document\n",
      "#document\n"
     ]
    }
   ],
   "source": [
    "for patient, t, data in meta_file_contents:\n",
    "    patient_folder = os.path.join(outdir, patient, \"physiboss_results\")\n",
    "    folders = []\n",
    "    for r in range(1, reps + 1):\n",
    "        # Add mutant folders\n",
    "        for m in ko_file_contents:\n",
    "            folder_name = model_prefix + \"_personalized__\" + m + \"_ko_physiboss_run_\" + str(r)\n",
    "            sub_folder = os.path.join(patient_folder, folder_name)\n",
    "            folders.append(sub_folder)\n",
    "        # Add wild type\n",
    "        folder_name = model_prefix + \"_personalized_physiboss_run_\" + str(r)\n",
    "        sub_folder = os.path.join(patient_folder, folder_name)\n",
    "        folders.append(sub_folder)\n",
    "    \n",
    "    print(\"PATIENT: \" + patient)\n",
    "    for f in folders:\n",
    "        print(f)\n",
    "        \n",
    "    # Read data files for the patient:\n",
    "    for f in folders:\n",
    "        final = os.path.join(f, \"final.xml\")\n",
    "        final_content = xml.dom.minidom.parse(final)\n",
    "        data = os.path.join(f, \"final_cells_physicell.mat\")"
   ]
  },
  {
   "cell_type": "code",
   "execution_count": null,
   "metadata": {},
   "outputs": [],
   "source": []
  },
  {
   "cell_type": "code",
   "execution_count": null,
   "metadata": {},
   "outputs": [],
   "source": []
  },
  {
   "cell_type": "code",
   "execution_count": null,
   "metadata": {},
   "outputs": [],
   "source": []
  },
  {
   "cell_type": "code",
   "execution_count": null,
   "metadata": {},
   "outputs": [],
   "source": []
  },
  {
   "cell_type": "code",
   "execution_count": null,
   "metadata": {},
   "outputs": [],
   "source": []
  }
 ],
 "metadata": {
  "kernelspec": {
   "display_name": "Python 3",
   "language": "python",
   "name": "python3"
  },
  "language_info": {
   "codemirror_mode": {
    "name": "ipython",
    "version": 3
   },
   "file_extension": ".py",
   "mimetype": "text/x-python",
   "name": "python",
   "nbconvert_exporter": "python",
   "pygments_lexer": "ipython3",
   "version": "3.8.7"
  },
  "varInspector": {
   "cols": {
    "lenName": 16,
    "lenType": 16,
    "lenVar": 40
   },
   "kernels_config": {
    "python": {
     "delete_cmd_postfix": "",
     "delete_cmd_prefix": "del ",
     "library": "var_list.py",
     "varRefreshCmd": "print(var_dic_list())"
    },
    "r": {
     "delete_cmd_postfix": ") ",
     "delete_cmd_prefix": "rm(",
     "library": "var_list.r",
     "varRefreshCmd": "cat(var_dic_list()) "
    }
   },
   "types_to_exclude": [
    "module",
    "function",
    "builtin_function_or_method",
    "instance",
    "_Feature"
   ],
   "window_display": false
  }
 },
 "nbformat": 4,
 "nbformat_minor": 4
}
